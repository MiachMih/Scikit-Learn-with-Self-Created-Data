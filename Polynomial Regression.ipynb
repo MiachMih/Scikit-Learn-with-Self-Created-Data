{
 "cells": [
  {
   "cell_type": "code",
   "execution_count": 687,
   "metadata": {},
   "outputs": [],
   "source": [
    "import sklearn\n",
    "import numpy as np"
   ]
  },
  {
   "cell_type": "code",
   "execution_count": 688,
   "metadata": {},
   "outputs": [],
   "source": [
    "degree = np.random.randint(2, 6)\n",
    "weights = []\n",
    "bias = np.random.randint(-1000,1000)\n",
    "x_train = []\n",
    "y_train = []\n",
    "x_test = []\n",
    "y_test = []\n",
    "\n",
    "def y(W,X,B,D):\n",
    "    temp = 0\n",
    "    for i in range(D):\n",
    "        temp += W[i]*(X[i]**(D-i))\n",
    "    return temp + B\n",
    "\n",
    "for i in range(degree):\n",
    "    weights.append(np.random.randint(-500,500))\n",
    "for i in range(1000):\n",
    "    temp = []\n",
    "    for _ in range(degree):\n",
    "        temp.append(np.random.randint(-100,100))\n",
    "    x_train.append(temp)\n",
    "    y_train.append(y(weights,x_train[i],bias,degree))\n",
    "    \n",
    "for i in range(5):\n",
    "    temp = []\n",
    "    for _ in range(degree):\n",
    "        temp.append(np.random.randint(-100,100))\n",
    "    x_test.append(temp)\n",
    "    y_test.append([y(weights,x_test[i],bias,degree)])"
   ]
  },
  {
   "cell_type": "code",
   "execution_count": 689,
   "metadata": {},
   "outputs": [
    {
     "name": "stdout",
     "output_type": "stream",
     "text": [
      "Degree = 4\n",
      "Model: y = 431X^2  + -283X + -146\n",
      "Prediction: y = 0X^2 + 0X + -146\n"
     ]
    }
   ],
   "source": [
    "from sklearn.preprocessing import PolynomialFeatures\n",
    "poly = PolynomialFeatures(degree = degree)\n",
    "poly_matrix = poly.fit_transform(x_train)\n",
    "from sklearn.linear_model import LinearRegression\n",
    "LinReg = LinearRegression()\n",
    "LinReg.fit(poly_matrix, y_train)\n",
    "\n",
    "print('Degree = {0}'.format(degree))\n",
    "if n == 2: \n",
    "    print('Model: y = {0}X^2  + {1}X + {2}'.format(weights[0],weights[1], bias)) \n",
    "    print('Prediction: y = {0}X^2 + {1}X + {2}'.format(int(np.rint(LinReg.coef_[3])), \n",
    "                                                       int(np.rint(LinReg.coef_[2])), \n",
    "                                                       int(np.rint(LinReg.intercept_)))) \n",
    "    \n",
    "elif n ==3: \n",
    "        print('Model: y = {0}X^3 + {1}X^2 + {2}X + {3}'.format(weights[0],weights[1],weights[2], bias)) \n",
    "        print('Prediction: y = {0}X^3 + {1}X^2 + {2}X + {3}'.format(int(np.rint(LinReg.coef_[10])), \n",
    "                                                                   int(np.rint(LinReg.coef_[7])), \n",
    "                                                                   int(np.rint(LinReg.coef_[3])), \n",
    "                                                                   int(np.rint(LinReg.intercept_)))) \n",
    "\n",
    "elif n == 4: \n",
    "    print('Model: y = {0}X^4 + {1}X^3 + {2}X^2 + {3}X + {4}'.format(weights[0],weights[1], weights[2],weights[3], bias))\n",
    "    print('Prediction: y = {0}X^4 + {1}X^3 + {2}X^2 + {3}X + {4}'.format(int(np.rint(LinReg.coef_[35])), \n",
    "                                                                       int(np.rint(LinReg.coef_[25])), \n",
    "                                                                       int(np.rint(LinReg.coef_[12])), \n",
    "                                                                       int(np.rint(LinReg.coef_[4])), \n",
    "                                                                       int(np.rint(LinReg.intercept_)))) \n",
    "\n",
    "elif n == 5: \n",
    "    print('Model: y = {0}X^5 + {1}X^4 + {2}X^3 + {3}X^2 + {4}X + {5}'.format(weights[0],weights[1],weights[2],weights[3],weights[4], bias)) \n",
    "    print('Prediction: y = {0}X^5 + {1}X^4 + {2}X^3 + {3}X^2 + {4}X + {5}'.format(int(np.rint(LinReg.coef_[126])), \n",
    "                                                                               int(np.rint(LinReg.coef_[91])), \n",
    "                                                                               int(np.rint(LinReg.coef_[46])), \n",
    "                                                                               int(np.rint(LinReg.coef_[18])), \n",
    "                                                                               int(np.rint(LinReg.coef_[5])), \n",
    "                                                                               int(np.rint(LinReg.intercept_)))) \n",
    "\n",
    "else: \n",
    "    print('An error has occurred')"
   ]
  },
  {
   "cell_type": "code",
   "execution_count": 690,
   "metadata": {},
   "outputs": [
    {
     "name": "stdout",
     "output_type": "stream",
     "text": [
      "Success\n",
      "Input:  [66, 74, 11, -56]\n",
      "True answer:  8063422848\n",
      "Predicted answer:  8063422848.0\n",
      "-------------------------------------------\n",
      "Success\n",
      "Input:  [-98, 23, -58, 34]\n",
      "True answer:  39749784641\n",
      "Predicted answer:  39749784641.0\n",
      "-------------------------------------------\n",
      "Success\n",
      "Input:  [-95, -3, -54, -28]\n",
      "True answer:  35104519502\n",
      "Predicted answer:  35104519502.0\n",
      "-------------------------------------------\n",
      "Success\n",
      "Input:  [-48, -77, 28, -79]\n",
      "True answer:  2416961249\n",
      "Predicted answer:  2416961249.0\n",
      "-------------------------------------------\n",
      "Success\n",
      "Input:  [-22, 63, -19, 38]\n",
      "True answer:  30098555\n",
      "Predicted answer:  30098555.0\n",
      "-------------------------------------------\n"
     ]
    }
   ],
   "source": [
    "for i in range(len(x_test)):\n",
    "    if y_test[i][0] == np.rint(LinReg.predict([poly.transform(x_test)[i]])[0]):\n",
    "        print('Success')\n",
    "        print('Input: ', x_test[i])\n",
    "        print('True answer: ', y_test[i][0])\n",
    "        print('Predicted answer: ', np.rint(LinReg.predict([poly.transform(x_test)[i]])[0]))\n",
    "        print('-------------------------------------------')\n",
    "    else:\n",
    "        print('Failure')\n",
    "        print('Input: ', x_test[i])\n",
    "        print('True answer: ', y_test[i][0])\n",
    "        print('Predicted answer: ', np.rint(LinReg.predict([poly.transform(x_test)[i]])[0]))\n",
    "        print('-------------------------------------------')"
   ]
  }
 ],
 "metadata": {
  "kernelspec": {
   "display_name": "Python 3",
   "language": "python",
   "name": "python3"
  },
  "language_info": {
   "codemirror_mode": {
    "name": "ipython",
    "version": 3
   },
   "file_extension": ".py",
   "mimetype": "text/x-python",
   "name": "python",
   "nbconvert_exporter": "python",
   "pygments_lexer": "ipython3",
   "version": "3.7.3"
  }
 },
 "nbformat": 4,
 "nbformat_minor": 2
}
