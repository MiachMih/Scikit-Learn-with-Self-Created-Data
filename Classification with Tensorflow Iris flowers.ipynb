{
 "cells": [
  {
   "cell_type": "code",
   "execution_count": 29,
   "metadata": {},
   "outputs": [],
   "source": [
    "import pandas as pd\n",
    "import tensorflow as tf"
   ]
  },
  {
   "cell_type": "code",
   "execution_count": 30,
   "metadata": {},
   "outputs": [],
   "source": [
    "CSV_COLUMN_NAMES = ['SepalLength', 'SepalWidth', 'PetalLength', 'PetalWidth', 'Species']\n",
    "SPECIES = ['Setosa', 'Versicolor', 'Virginica']\n",
    "# Lets define some constants to help us later on"
   ]
  },
  {
   "cell_type": "code",
   "execution_count": 31,
   "metadata": {},
   "outputs": [],
   "source": [
    "train_path = tf.keras.utils.get_file(\n",
    "    \"iris_training.csv\", \"https://storage.googleapis.com/download.tensorflow.org/data/iris_training.csv\")\n",
    "test_path = tf.keras.utils.get_file(\n",
    "    \"iris_test.csv\", \"https://storage.googleapis.com/download.tensorflow.org/data/iris_test.csv\")\n",
    "\n",
    "train = pd.read_csv(train_path, names=CSV_COLUMN_NAMES, header=0)\n",
    "test = pd.read_csv(test_path, names=CSV_COLUMN_NAMES, header=0)\n",
    "# Here we use keras (a module inside of TensorFlow) to grab our datasets and read them into a pandas dataframe"
   ]
  },
  {
   "cell_type": "code",
   "execution_count": 32,
   "metadata": {},
   "outputs": [],
   "source": [
    "train_y = train.pop('Species')\n",
    "test_y = test.pop('Species')"
   ]
  },
  {
   "cell_type": "code",
   "execution_count": 33,
   "metadata": {},
   "outputs": [],
   "source": [
    "def input_fn(features, labels, training=True, batch_size=256):\n",
    "    # Convert the inputs to a Dataset.\n",
    "    dataset = tf.data.Dataset.from_tensor_slices((dict(features), labels))\n",
    "\n",
    "    # Shuffle and repeat if you are in training mode.\n",
    "    if training:\n",
    "        dataset = dataset.shuffle(1000).repeat()\n",
    "    \n",
    "    return dataset.batch(batch_size)"
   ]
  },
  {
   "cell_type": "code",
   "execution_count": 34,
   "metadata": {},
   "outputs": [],
   "source": [
    "# Feature columns describe how to use the input.\n",
    "my_feature_columns = []\n",
    "for key in train.keys():\n",
    "    my_feature_columns.append(tf.feature_column.numeric_column(key=key))"
   ]
  },
  {
   "cell_type": "code",
   "execution_count": 35,
   "metadata": {},
   "outputs": [
    {
     "name": "stdout",
     "output_type": "stream",
     "text": [
      "INFO:tensorflow:Using default config.\n",
      "WARNING:tensorflow:Using temporary folder as model directory: C:\\Users\\Admiral\\AppData\\Local\\Temp\\tmpigfp7_ws\n",
      "INFO:tensorflow:Using config: {'_model_dir': 'C:\\\\Users\\\\Admiral\\\\AppData\\\\Local\\\\Temp\\\\tmpigfp7_ws', '_tf_random_seed': None, '_save_summary_steps': 100, '_save_checkpoints_steps': None, '_save_checkpoints_secs': 600, '_session_config': allow_soft_placement: true\n",
      "graph_options {\n",
      "  rewrite_options {\n",
      "    meta_optimizer_iterations: ONE\n",
      "  }\n",
      "}\n",
      ", '_keep_checkpoint_max': 5, '_keep_checkpoint_every_n_hours': 10000, '_log_step_count_steps': 100, '_train_distribute': None, '_device_fn': None, '_protocol': None, '_eval_distribute': None, '_experimental_distribute': None, '_experimental_max_worker_delay_secs': None, '_session_creation_timeout_secs': 7200, '_service': None, '_cluster_spec': ClusterSpec({}), '_task_type': 'worker', '_task_id': 0, '_global_id_in_cluster': 0, '_master': '', '_evaluation_master': '', '_is_chief': True, '_num_ps_replicas': 0, '_num_worker_replicas': 1}\n"
     ]
    }
   ],
   "source": [
    "# Build a DNN with 2 hidden layers with 30 and 10 hidden nodes each.\n",
    "classifier = tf.estimator.DNNClassifier(\n",
    "    feature_columns=my_feature_columns,\n",
    "    # Two hidden layers of 30 and 10 nodes respectively.\n",
    "    hidden_units=[30, 10],\n",
    "    # The model must choose between 3 classes.\n",
    "    n_classes=3)"
   ]
  },
  {
   "cell_type": "code",
   "execution_count": 36,
   "metadata": {},
   "outputs": [
    {
     "name": "stdout",
     "output_type": "stream",
     "text": [
      "INFO:tensorflow:Calling model_fn.\n",
      "WARNING:tensorflow:Layer dnn is casting an input tensor from dtype float64 to the layer's dtype of float32, which is new behavior in TensorFlow 2.  The layer has dtype float32 because it's dtype defaults to floatx.\n",
      "\n",
      "If you intended to run this layer in float32, you can safely ignore this warning. If in doubt, this warning is likely only an issue if you are porting a TensorFlow 1.X model to TensorFlow 2.\n",
      "\n",
      "To change all layers to have dtype float64 by default, call `tf.keras.backend.set_floatx('float64')`. To change just this layer, pass dtype='float64' to the layer constructor. If you are the author of this layer, you can disable autocasting by passing autocast=False to the base Layer constructor.\n",
      "\n",
      "INFO:tensorflow:Done calling model_fn.\n",
      "INFO:tensorflow:Create CheckpointSaverHook.\n",
      "INFO:tensorflow:Graph was finalized.\n",
      "INFO:tensorflow:Running local_init_op.\n",
      "INFO:tensorflow:Done running local_init_op.\n",
      "INFO:tensorflow:Saving checkpoints for 0 into C:\\Users\\Admiral\\AppData\\Local\\Temp\\tmpigfp7_ws\\model.ckpt.\n",
      "INFO:tensorflow:loss = 1.1215866, step = 0\n",
      "INFO:tensorflow:global_step/sec: 346.946\n",
      "INFO:tensorflow:loss = 0.98538494, step = 100 (0.290 sec)\n",
      "INFO:tensorflow:global_step/sec: 401.07\n",
      "INFO:tensorflow:loss = 0.9650498, step = 200 (0.249 sec)\n",
      "INFO:tensorflow:global_step/sec: 426.671\n",
      "INFO:tensorflow:loss = 0.91583794, step = 300 (0.233 sec)\n",
      "INFO:tensorflow:global_step/sec: 412.624\n",
      "INFO:tensorflow:loss = 0.87938905, step = 400 (0.241 sec)\n",
      "INFO:tensorflow:global_step/sec: 396.315\n",
      "INFO:tensorflow:loss = 0.8637553, step = 500 (0.253 sec)\n",
      "INFO:tensorflow:global_step/sec: 417.781\n",
      "INFO:tensorflow:loss = 0.8432404, step = 600 (0.241 sec)\n",
      "INFO:tensorflow:global_step/sec: 414.329\n",
      "INFO:tensorflow:loss = 0.8243271, step = 700 (0.239 sec)\n",
      "INFO:tensorflow:global_step/sec: 396.315\n",
      "INFO:tensorflow:loss = 0.8049538, step = 800 (0.253 sec)\n",
      "INFO:tensorflow:global_step/sec: 343.382\n",
      "INFO:tensorflow:loss = 0.7803695, step = 900 (0.291 sec)\n",
      "INFO:tensorflow:global_step/sec: 421.292\n",
      "INFO:tensorflow:loss = 0.755725, step = 1000 (0.236 sec)\n",
      "INFO:tensorflow:global_step/sec: 391.671\n",
      "INFO:tensorflow:loss = 0.7474701, step = 1100 (0.255 sec)\n",
      "INFO:tensorflow:global_step/sec: 417.781\n",
      "INFO:tensorflow:loss = 0.7338283, step = 1200 (0.240 sec)\n",
      "INFO:tensorflow:global_step/sec: 421.292\n",
      "INFO:tensorflow:loss = 0.7166816, step = 1300 (0.236 sec)\n",
      "INFO:tensorflow:global_step/sec: 424.863\n",
      "INFO:tensorflow:loss = 0.7054777, step = 1400 (0.235 sec)\n",
      "INFO:tensorflow:global_step/sec: 432.187\n",
      "INFO:tensorflow:loss = 0.6951073, step = 1500 (0.232 sec)\n",
      "INFO:tensorflow:global_step/sec: 432.188\n",
      "INFO:tensorflow:loss = 0.6752339, step = 1600 (0.230 sec)\n",
      "INFO:tensorflow:global_step/sec: 414.329\n",
      "INFO:tensorflow:loss = 0.6630919, step = 1700 (0.241 sec)\n",
      "INFO:tensorflow:global_step/sec: 428.494\n",
      "INFO:tensorflow:loss = 0.6567135, step = 1800 (0.233 sec)\n",
      "INFO:tensorflow:global_step/sec: 412.623\n",
      "INFO:tensorflow:loss = 0.65342987, step = 1900 (0.242 sec)\n",
      "INFO:tensorflow:global_step/sec: 363.288\n",
      "INFO:tensorflow:loss = 0.6324028, step = 2000 (0.276 sec)\n",
      "INFO:tensorflow:global_step/sec: 344.562\n",
      "INFO:tensorflow:loss = 0.6291815, step = 2100 (0.290 sec)\n",
      "INFO:tensorflow:global_step/sec: 385.643\n",
      "INFO:tensorflow:loss = 0.61400163, step = 2200 (0.258 sec)\n",
      "INFO:tensorflow:global_step/sec: 432.189\n",
      "INFO:tensorflow:loss = 0.6108403, step = 2300 (0.231 sec)\n",
      "INFO:tensorflow:global_step/sec: 428.493\n",
      "INFO:tensorflow:loss = 0.60586625, step = 2400 (0.233 sec)\n",
      "INFO:tensorflow:global_step/sec: 428.495\n",
      "INFO:tensorflow:loss = 0.59440595, step = 2500 (0.233 sec)\n",
      "INFO:tensorflow:global_step/sec: 414.328\n",
      "INFO:tensorflow:loss = 0.58267736, step = 2600 (0.241 sec)\n",
      "INFO:tensorflow:global_step/sec: 430.333\n",
      "INFO:tensorflow:loss = 0.5823203, step = 2700 (0.233 sec)\n",
      "INFO:tensorflow:global_step/sec: 432.187\n",
      "INFO:tensorflow:loss = 0.5648162, step = 2800 (0.231 sec)\n",
      "INFO:tensorflow:global_step/sec: 417.781\n",
      "INFO:tensorflow:loss = 0.56944054, step = 2900 (0.238 sec)\n",
      "INFO:tensorflow:global_step/sec: 364.61\n",
      "INFO:tensorflow:loss = 0.5617076, step = 3000 (0.275 sec)\n",
      "INFO:tensorflow:global_step/sec: 404.305\n",
      "INFO:tensorflow:loss = 0.54942083, step = 3100 (0.246 sec)\n",
      "INFO:tensorflow:global_step/sec: 388.634\n",
      "INFO:tensorflow:loss = 0.5526239, step = 3200 (0.257 sec)\n",
      "INFO:tensorflow:global_step/sec: 417.781\n",
      "INFO:tensorflow:loss = 0.5430073, step = 3300 (0.240 sec)\n",
      "INFO:tensorflow:global_step/sec: 414.329\n",
      "INFO:tensorflow:loss = 0.5344119, step = 3400 (0.241 sec)\n",
      "INFO:tensorflow:global_step/sec: 391.67\n",
      "INFO:tensorflow:loss = 0.5182243, step = 3500 (0.255 sec)\n",
      "INFO:tensorflow:global_step/sec: 428.493\n",
      "INFO:tensorflow:loss = 0.52984256, step = 3600 (0.233 sec)\n",
      "INFO:tensorflow:global_step/sec: 404.305\n",
      "INFO:tensorflow:loss = 0.5186244, step = 3700 (0.246 sec)\n",
      "INFO:tensorflow:global_step/sec: 405.942\n",
      "INFO:tensorflow:loss = 0.5226434, step = 3800 (0.247 sec)\n",
      "INFO:tensorflow:global_step/sec: 412.623\n",
      "INFO:tensorflow:loss = 0.5106697, step = 3900 (0.241 sec)\n",
      "INFO:tensorflow:global_step/sec: 382.701\n",
      "INFO:tensorflow:loss = 0.5093506, step = 4000 (0.262 sec)\n",
      "INFO:tensorflow:global_step/sec: 394.752\n",
      "INFO:tensorflow:loss = 0.49774787, step = 4100 (0.253 sec)\n",
      "INFO:tensorflow:global_step/sec: 396.317\n",
      "INFO:tensorflow:loss = 0.4950019, step = 4200 (0.252 sec)\n",
      "INFO:tensorflow:global_step/sec: 397.887\n",
      "INFO:tensorflow:loss = 0.48821947, step = 4300 (0.252 sec)\n",
      "INFO:tensorflow:global_step/sec: 409.255\n",
      "INFO:tensorflow:loss = 0.48315433, step = 4400 (0.243 sec)\n",
      "INFO:tensorflow:global_step/sec: 376.945\n",
      "INFO:tensorflow:loss = 0.47916144, step = 4500 (0.264 sec)\n",
      "INFO:tensorflow:global_step/sec: 428.494\n",
      "INFO:tensorflow:loss = 0.48523712, step = 4600 (0.233 sec)\n",
      "INFO:tensorflow:global_step/sec: 405.942\n",
      "INFO:tensorflow:loss = 0.47357485, step = 4700 (0.246 sec)\n",
      "INFO:tensorflow:global_step/sec: 384.166\n",
      "INFO:tensorflow:loss = 0.46231347, step = 4800 (0.260 sec)\n",
      "INFO:tensorflow:global_step/sec: 385.644\n",
      "INFO:tensorflow:loss = 0.46456146, step = 4900 (0.259 sec)\n",
      "INFO:tensorflow:Saving checkpoints for 5000 into C:\\Users\\Admiral\\AppData\\Local\\Temp\\tmpigfp7_ws\\model.ckpt.\n",
      "INFO:tensorflow:Loss for final step: 0.45907316.\n"
     ]
    },
    {
     "data": {
      "text/plain": [
       "<tensorflow_estimator.python.estimator.canned.dnn.DNNClassifierV2 at 0x12fbf683308>"
      ]
     },
     "execution_count": 36,
     "metadata": {},
     "output_type": "execute_result"
    }
   ],
   "source": [
    "classifier.train(input_fn=lambda: input_fn(train, train_y, training=True), \n",
    "                 steps=5000)\n",
    "# We include a lambda to avoid creating an inner function previously"
   ]
  },
  {
   "cell_type": "code",
   "execution_count": 37,
   "metadata": {},
   "outputs": [
    {
     "name": "stdout",
     "output_type": "stream",
     "text": [
      "INFO:tensorflow:Calling model_fn.\n",
      "WARNING:tensorflow:Layer dnn is casting an input tensor from dtype float64 to the layer's dtype of float32, which is new behavior in TensorFlow 2.  The layer has dtype float32 because it's dtype defaults to floatx.\n",
      "\n",
      "If you intended to run this layer in float32, you can safely ignore this warning. If in doubt, this warning is likely only an issue if you are porting a TensorFlow 1.X model to TensorFlow 2.\n",
      "\n",
      "To change all layers to have dtype float64 by default, call `tf.keras.backend.set_floatx('float64')`. To change just this layer, pass dtype='float64' to the layer constructor. If you are the author of this layer, you can disable autocasting by passing autocast=False to the base Layer constructor.\n",
      "\n",
      "INFO:tensorflow:Done calling model_fn.\n",
      "INFO:tensorflow:Starting evaluation at 2020-03-22T12:59:31Z\n",
      "INFO:tensorflow:Graph was finalized.\n",
      "INFO:tensorflow:Restoring parameters from C:\\Users\\Admiral\\AppData\\Local\\Temp\\tmpigfp7_ws\\model.ckpt-5000\n",
      "INFO:tensorflow:Running local_init_op.\n",
      "INFO:tensorflow:Done running local_init_op.\n",
      "INFO:tensorflow:Inference Time : 0.19947s\n",
      "INFO:tensorflow:Finished evaluation at 2020-03-22-12:59:31\n",
      "INFO:tensorflow:Saving dict for global step 5000: accuracy = 0.8, average_loss = 0.53533095, global_step = 5000, loss = 0.53533095\n",
      "INFO:tensorflow:Saving 'checkpoint_path' summary for global step 5000: C:\\Users\\Admiral\\AppData\\Local\\Temp\\tmpigfp7_ws\\model.ckpt-5000\n",
      "\n",
      "Test set accuracy: 0.800\n",
      "\n"
     ]
    }
   ],
   "source": [
    "eval_result = classifier.evaluate(\n",
    "    input_fn=lambda: input_fn(test, test_y, training=False))\n",
    "\n",
    "print('\\nTest set accuracy: {accuracy:0.3f}\\n'.format(**eval_result))"
   ]
  },
  {
   "cell_type": "code",
   "execution_count": 38,
   "metadata": {},
   "outputs": [
    {
     "name": "stdout",
     "output_type": "stream",
     "text": [
      "Please type numeric values as prompted.\n",
      "SepalLength: 2.6\n",
      "SepalWidth: 3.41\n",
      "PetalLength: 5.7\n",
      "PetalWidth: 9\n",
      "PetalWidth: 5\n",
      "PetalWidth: 6\n",
      "PetalWidth: 3\n",
      "PetalWidth: 1\n",
      "PetalWidth: 54\n",
      "PetalWidth: 5\n",
      "PetalWidth: 2.5\n",
      "INFO:tensorflow:Calling model_fn.\n",
      "INFO:tensorflow:Done calling model_fn.\n",
      "INFO:tensorflow:Graph was finalized.\n",
      "INFO:tensorflow:Restoring parameters from C:\\Users\\Admiral\\AppData\\Local\\Temp\\tmpigfp7_ws\\model.ckpt-5000\n",
      "INFO:tensorflow:Running local_init_op.\n",
      "INFO:tensorflow:Done running local_init_op.\n",
      "Prediction is \"Virginica\" (73.4%)\n"
     ]
    }
   ],
   "source": [
    "def input_fn(features, batch_size=256):\n",
    "    # Convert the inputs to a Dataset without labels.\n",
    "    return tf.data.Dataset.from_tensor_slices(dict(features)).batch(batch_size)\n",
    "\n",
    "features = ['SepalLength', 'SepalWidth', 'PetalLength', 'PetalWidth']\n",
    "predict = {}\n",
    "\n",
    "print(\"Please type numeric values as prompted.\")\n",
    "for feature in features:\n",
    "  valid = True\n",
    "  while valid: \n",
    "    val = input(feature + \": \")\n",
    "    if not val.isdigit(): valid = False\n",
    "\n",
    "  predict[feature] = [float(val)]\n",
    "\n",
    "predictions = classifier.predict(input_fn=lambda: input_fn(predict))\n",
    "for pred_dict in predictions:\n",
    "    class_id = pred_dict['class_ids'][0]\n",
    "    probability = pred_dict['probabilities'][class_id]\n",
    "\n",
    "    print('Prediction is \"{}\" ({:.1f}%)'.format(\n",
    "        SPECIES[class_id], 100 * probability))"
   ]
  },
  {
   "cell_type": "code",
   "execution_count": null,
   "metadata": {},
   "outputs": [],
   "source": []
  }
 ],
 "metadata": {
  "kernelspec": {
   "display_name": "Python 3",
   "language": "python",
   "name": "python3"
  },
  "language_info": {
   "codemirror_mode": {
    "name": "ipython",
    "version": 3
   },
   "file_extension": ".py",
   "mimetype": "text/x-python",
   "name": "python",
   "nbconvert_exporter": "python",
   "pygments_lexer": "ipython3",
   "version": "3.7.6"
  }
 },
 "nbformat": 4,
 "nbformat_minor": 4
}
