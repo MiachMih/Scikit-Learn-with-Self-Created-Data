{
 "cells": [
  {
   "cell_type": "code",
   "execution_count": 14,
   "metadata": {},
   "outputs": [],
   "source": [
    "import sklearn\n",
    "import numpy as np"
   ]
  },
  {
   "cell_type": "code",
   "execution_count": 15,
   "metadata": {},
   "outputs": [],
   "source": [
    "n = np.random.randint(2, 6)\n",
    "weights = []\n",
    "bias = np.random.randint(-1000,1000)\n",
    "x_train = []\n",
    "y_train = []\n",
    "x_test = []\n",
    "y_test = []\n",
    "\n",
    "def y(W,X,B,N):\n",
    "    temp = 0\n",
    "    for i in range(N):\n",
    "        temp += W[i]*X[i]\n",
    "    return temp + B\n",
    "\n",
    "for i in range(n):\n",
    "    weights.append(np.random.randint(-500,500))\n",
    "for i in range(1000):\n",
    "    temp = []\n",
    "    for _ in range(n):\n",
    "        temp.append(np.random.randint(-100,100))\n",
    "    x_train.append(temp)\n",
    "    y_train.append(y(weights,x_train[i],bias,n))\n",
    "    \n",
    "for i in range(5):\n",
    "    temp = []\n",
    "    for _ in range(n):\n",
    "        temp.append(np.random.randint(-100,100))\n",
    "    x_test.append(temp)\n",
    "    y_test.append([y(weights,x_test[i],bias,n)])"
   ]
  },
  {
   "cell_type": "code",
   "execution_count": 16,
   "metadata": {},
   "outputs": [
    {
     "name": "stdout",
     "output_type": "stream",
     "text": [
      "Model: y = -96X1 + 404X2 + -361X3 + -389X4 + -292X5 + 199\n",
      "Prediction: y = -96X1 + 404X2 + -361X3 + -389X4 + -292X5 + 199\n"
     ]
    }
   ],
   "source": [
    "from sklearn.linear_model import LinearRegression \n",
    "mulLinReg = LinearRegression(fit_intercept=True, normalize=False, copy_X=True, n_jobs=None) \n",
    "mulLinReg.fit(x_train, y_train)\n",
    "\n",
    "if n == 2: \n",
    "    print('Model: y = {0}X1  + {1}X2 + {2}'.format(weights[0],weights[1], bias)) \n",
    "    print('Prediction: y = {0}X1 + {1}X2 + {2}'.format(int(np.rint(mulLinReg.coef_[0])), \n",
    "                                                       int(np.rint(mulLinReg.coef_[1])), \n",
    "                                                       int(np.rint(mulLinReg.intercept_)))) \n",
    "    mulLinReg.coef_[0] = int(np.rint(mulLinReg.coef_[0])) \n",
    "    mulLinReg.coef_[1] = int(np.rint(mulLinReg.coef_[1])) \n",
    "    mulLinReg.intercept_ = int(np.rint(mulLinReg.intercept_)) \n",
    "    \n",
    "elif n ==3: \n",
    "        print('Model: y = {0}X1 + {1}X2 + {2}X3 + {3}'.format(weights[0],weights[1],weights[2], bias)) \n",
    "        print('Prediction: y = {0}X1 + {1}X2 + {2}X3 + {3}'.format(int(np.rint(mulLinReg.coef_[0])), \n",
    "                                                                   int(np.rint(mulLinReg.coef_[1])), \n",
    "                                                                   int(np.rint(mulLinReg.coef_[2])), \n",
    "                                                                   int(np.rint(mulLinReg.intercept_)))) \n",
    "        mulLinReg.coef_[0] = int(np.rint(mulLinReg.coef_[0])) \n",
    "        mulLinReg.coef_[1] = int(np.rint(mulLinReg.coef_[1])) \n",
    "        mulLinReg.coef_[2] = int(np.rint(mulLinReg.coef_[2])) \n",
    "        mulLinReg.intercept_ = int(np.rint(mulLinReg.intercept_))\n",
    "\n",
    "elif n == 4: \n",
    "    print('Model: y = {0}X1 + {1}X2 + {2}X3 + {3}X4 + {4}'.format(weights[0],weights[1], weights[2],weights[3], bias))\n",
    "    print('Prediction: y = {0}X1 + {1}X2 + {2}X3 + {3}X4 + {4}'.format(int(np.rint(mulLinReg.coef_[0])), \n",
    "                                                                       int(np.rint(mulLinReg.coef_[1])), \n",
    "                                                                       int(np.rint(mulLinReg.coef_[2])), \n",
    "                                                                       int(np.rint(mulLinReg.coef_[3])), \n",
    "                                                                       int(np.rint(mulLinReg.intercept_)))) \n",
    "    mulLinReg.coef_[0] = int(np.rint(mulLinReg.coef_[0])) \n",
    "    mulLinReg.coef_[1] = int(np.rint(mulLinReg.coef_[1])) \n",
    "    mulLinReg.coef_[2] = int(np.rint(mulLinReg.coef_[2])) \n",
    "    mulLinReg.coef_[3] = int(np.rint(mulLinReg.coef_[3])) \n",
    "    mulLinReg.intercept_ = int(np.rint(mulLinReg.intercept_))\n",
    "\n",
    "elif n == 5: \n",
    "    print('Model: y = {0}X1 + {1}X2 + {2}X3 + {3}X4 + {4}X5 + {5}'.format(weights[0],weights[1],weights[2],weights[3],weights[4], bias)) \n",
    "    print('Prediction: y = {0}X1 + {1}X2 + {2}X3 + {3}X4 + {4}X5 + {5}'.format(int(np.rint(mulLinReg.coef_[0])), \n",
    "                                                                               int(np.rint(mulLinReg.coef_[1])), \n",
    "                                                                               int(np.rint(mulLinReg.coef_[2])), \n",
    "                                                                               int(np.rint(mulLinReg.coef_[3])), \n",
    "                                                                               int(np.rint(mulLinReg.coef_[4])), \n",
    "                                                                               int(np.rint(mulLinReg.intercept_)))) \n",
    "    mulLinReg.coef_[0] = int(np.rint(mulLinReg.coef_[0])) \n",
    "    mulLinReg.coef_[1] = int(np.rint(mulLinReg.coef_[1])) \n",
    "    mulLinReg.coef_[2] = int(np.rint(mulLinReg.coef_[2])) \n",
    "    mulLinReg.coef_[3] = int(np.rint(mulLinReg.coef_[3])) \n",
    "    mulLinReg.coef_[4] = int(np.rint(mulLinReg.coef_[4])) \n",
    "    mulLinReg.intercept_ = int(np.rint(mulLinReg.intercept_))\n",
    "\n",
    "else: \n",
    "    print('An error has occurred')"
   ]
  },
  {
   "cell_type": "code",
   "execution_count": 17,
   "metadata": {},
   "outputs": [
    {
     "name": "stdout",
     "output_type": "stream",
     "text": [
      "Success\n",
      "Input:  [-47, 63, -85, 71, -68]\n",
      "True answer:  53085\n",
      "Predicted answer:  53085\n",
      "-------------------------------------------\n",
      "Success\n",
      "Input:  [62, -32, 74, 42, 87]\n",
      "True answer:  -87137\n",
      "Predicted answer:  -87137\n",
      "-------------------------------------------\n",
      "Success\n",
      "Input:  [92, -78, 30, -30, -53]\n",
      "True answer:  -23829\n",
      "Predicted answer:  -23829\n",
      "-------------------------------------------\n",
      "Success\n",
      "Input:  [-27, -25, -44, -11, -46]\n",
      "True answer:  26286\n",
      "Predicted answer:  26286\n",
      "-------------------------------------------\n",
      "Success\n",
      "Input:  [-13, 59, -59, -34, 62]\n",
      "True answer:  41704\n",
      "Predicted answer:  41704\n",
      "-------------------------------------------\n"
     ]
    }
   ],
   "source": [
    "for i in range(len(x_test)):\n",
    "    if int(y_test[i][0]) == int(mulLinReg.predict([x_test[i]])[0]):\n",
    "        print('Success')\n",
    "        print('Input: ', x_test[i])\n",
    "        print('True answer: ', y_test[i][0])\n",
    "        print('Predicted answer: ', int(mulLinReg.predict([x_test[i]])[0]))\n",
    "        print('-------------------------------------------')\n",
    "    else:\n",
    "        print('Failure')\n",
    "        print('Input: ', x_test[i])\n",
    "        print('True answer: ', y_test[i][0])\n",
    "        print('Predicted answer: ', int(mulLinReg.predict([x_test[i]])[0]))\n",
    "        print('-------------------------------------------')"
   ]
  }
 ],
 "metadata": {
  "kernelspec": {
   "display_name": "Python 3",
   "language": "python",
   "name": "python3"
  },
  "language_info": {
   "codemirror_mode": {
    "name": "ipython",
    "version": 3
   },
   "file_extension": ".py",
   "mimetype": "text/x-python",
   "name": "python",
   "nbconvert_exporter": "python",
   "pygments_lexer": "ipython3",
   "version": "3.7.3"
  }
 },
 "nbformat": 4,
 "nbformat_minor": 2
}
