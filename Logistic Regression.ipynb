{
 "cells": [
  {
   "cell_type": "code",
   "execution_count": 56,
   "metadata": {},
   "outputs": [],
   "source": [
    "import numpy as np\n",
    "import sklearn"
   ]
  },
  {
   "cell_type": "code",
   "execution_count": 57,
   "metadata": {},
   "outputs": [],
   "source": [
    "rounding = 2\n",
    "x_train = []\n",
    "y_train = []\n",
    "x_test = []\n",
    "y_test = []\n",
    "\n",
    "for i in range(1000):\n",
    "    y_train.append(np.random.randint(low = 2, high = None))\n",
    "    if y_train[i] == 0:\n",
    "        x_train.append([round(np.random.uniform(1, 4), rounding),round(np.random.randint(50, 101), rounding),round(np.random.uniform(3, 7), rounding)])\n",
    "    elif y_train[i] == 1:\n",
    "        x_train.append([round(np.random.uniform(3.9, 7), rounding),round(np.random.randint(95, 151), rounding),round(np.random.uniform(6.9, 13), rounding)])\n",
    "    else:\n",
    "        print('There was an error')\n",
    "for i in range(5):\n",
    "    y_test.append(np.random.randint(low = 2, high = None))\n",
    "    if y_test[i] == 0:\n",
    "        x_test.append([round(np.random.uniform(1, 4), rounding),round(np.random.uniform(50, 100), rounding),round(np.random.uniform(3, 7), rounding)])\n",
    "    elif y_test[i] == 1:\n",
    "        x_test.append([round(np.random.uniform(3.9, 7), rounding),round(np.random.uniform(95, 150), rounding),round(np.random.uniform(6.9, 13), rounding)])\n",
    "    else:\n",
    "        print('There was an error')"
   ]
  },
  {
   "cell_type": "code",
   "execution_count": 58,
   "metadata": {},
   "outputs": [
    {
     "name": "stdout",
     "output_type": "stream",
     "text": [
      "\n",
      "True Model:\n",
      "\n",
      "0: [1,4),[50,100], [3,7)\n",
      "1: [3.9,7), [95,150], [6.9,13)\n",
      "\n"
     ]
    }
   ],
   "source": [
    "from sklearn.linear_model import LogisticRegression\n",
    "classifier = LogisticRegression(random_state=None, solver = 'lbfgs')\n",
    "classifier.fit(x_train, y_train)\n",
    "print('''\n",
    "True Model:\n",
    "\n",
    "0: [1,4),[50,100], [3,7)\n",
    "1: [3.9,7), [95,150], [6.9,13)\n",
    "''')"
   ]
  },
  {
   "cell_type": "code",
   "execution_count": 59,
   "metadata": {},
   "outputs": [
    {
     "name": "stdout",
     "output_type": "stream",
     "text": [
      "Success\n",
      "Input:  [3.93, 97.1, 4.48]\n",
      "True Answer:  0\n",
      "Prediction:  0\n",
      "---------------------------------------------------------\n",
      "Success\n",
      "Input:  [4.37, 99.38, 11.13]\n",
      "True Answer:  1\n",
      "Prediction:  1\n",
      "---------------------------------------------------------\n",
      "Success\n",
      "Input:  [6.48, 118.6, 8.81]\n",
      "True Answer:  1\n",
      "Prediction:  1\n",
      "---------------------------------------------------------\n",
      "Success\n",
      "Input:  [1.52, 81.16, 3.05]\n",
      "True Answer:  0\n",
      "Prediction:  0\n",
      "---------------------------------------------------------\n",
      "Success\n",
      "Input:  [1.84, 50.99, 3.91]\n",
      "True Answer:  0\n",
      "Prediction:  0\n",
      "---------------------------------------------------------\n"
     ]
    }
   ],
   "source": [
    "for i in range(len(x_test)):\n",
    "    if y_test[i] == classifier.predict([x_test[i]]):\n",
    "        print('Success')\n",
    "        print('Input: ', x_test[i])\n",
    "        print('True Answer: ', y_test[i])\n",
    "        print('Prediction: ', classifier.predict([x_test[i]])[0])\n",
    "    else:\n",
    "        print('Failure')\n",
    "        print('Input: ', x_test[i])\n",
    "        print('True Answer: ', y_test[i])\n",
    "        print('Prediction: ', classifier.predict([x_test[i]])[0])\n",
    "    print('---------------------------------------------------------')"
   ]
  }
 ],
 "metadata": {
  "kernelspec": {
   "display_name": "Python 3",
   "language": "python",
   "name": "python3"
  },
  "language_info": {
   "codemirror_mode": {
    "name": "ipython",
    "version": 3
   },
   "file_extension": ".py",
   "mimetype": "text/x-python",
   "name": "python",
   "nbconvert_exporter": "python",
   "pygments_lexer": "ipython3",
   "version": "3.7.3"
  }
 },
 "nbformat": 4,
 "nbformat_minor": 2
}
