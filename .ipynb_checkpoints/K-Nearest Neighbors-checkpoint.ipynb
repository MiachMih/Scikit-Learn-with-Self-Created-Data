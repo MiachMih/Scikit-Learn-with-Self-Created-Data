{
 "cells": [
  {
   "cell_type": "code",
   "execution_count": 8,
   "metadata": {},
   "outputs": [],
   "source": [
    "import numpy as np\n",
    "import sklearn\n",
    "import matplotlib.pyplot as plt"
   ]
  },
  {
   "cell_type": "code",
   "execution_count": 9,
   "metadata": {},
   "outputs": [],
   "source": [
    "x_train = []\n",
    "y_train = []\n",
    "x_test = []\n",
    "y_test = []\n",
    "\n",
    "def y(x):\n",
    "    return -0.000009*(x-1000)**3 + 4500   # curve that separates into two classes\n",
    "\n",
    "for i in range(50000):\n",
    "    x_train.append([np.random.randint(0, 2001), np.random.randint(0, 10001)])\n",
    "    if x_train[i][1] <= y(x_train[i][0]):\n",
    "        y_train.append(0)\n",
    "    elif x_train[i][1] > y(x_train[i][0]):\n",
    "        y_train.append(1)\n",
    "    else:\n",
    "        print('There was an error.')\n",
    "        \n",
    "for i in range(5000):\n",
    "    x_test.append([np.random.randint(0, 2001), np.random.randint(0, 10001)])\n",
    "    if x_test[i][1] <= y(x_test[i][0]):\n",
    "        y_test.append(0)\n",
    "    elif x_test[i][1] > y(x_test[i][0]):\n",
    "        y_test.append(1)\n",
    "    else:\n",
    "        print('There was an error.')"
   ]
  },
  {
   "cell_type": "code",
   "execution_count": 10,
   "metadata": {},
   "outputs": [
    {
     "data": {
      "text/plain": [
       "KNeighborsClassifier(algorithm='auto', leaf_size=30, metric='minkowski',\n",
       "                     metric_params=None, n_jobs=None, n_neighbors=5, p=2,\n",
       "                     weights='uniform')"
      ]
     },
     "execution_count": 10,
     "metadata": {},
     "output_type": "execute_result"
    }
   ],
   "source": [
    "from sklearn.preprocessing import StandardScaler\n",
    "scaler = StandardScaler()\n",
    "x_train = scaler.fit_transform(x_train)\n",
    "\n",
    "from sklearn.neighbors import KNeighborsClassifier\n",
    "KNNclassifier = KNeighborsClassifier(n_neighbors=5)\n",
    "KNNclassifier.fit(x_train, y_train)"
   ]
  },
  {
   "cell_type": "code",
   "execution_count": 11,
   "metadata": {},
   "outputs": [
    {
     "name": "stdout",
     "output_type": "stream",
     "text": [
      "Failure\n",
      "Input: [346, 7114]\n",
      "True Answer: 1\n",
      "Prediction: 0\n",
      "\n",
      "Confidence : \n",
      "0: 60.0% | 1: 40.0%\n",
      "--------------------------\n",
      "Failure\n",
      "Input: [1657, 1920]\n",
      "True Answer: 0\n",
      "Prediction: 1\n",
      "\n",
      "Confidence : \n",
      "0: 20.0% | 1: 80.0%\n",
      "--------------------------\n",
      "Failure\n",
      "Input: [1406, 3897]\n",
      "True Answer: 0\n",
      "Prediction: 1\n",
      "\n",
      "Confidence : \n",
      "0: 40.0% | 1: 60.0%\n",
      "--------------------------\n",
      "Failure\n",
      "Input: [770, 4600]\n",
      "True Answer: 0\n",
      "Prediction: 1\n",
      "\n",
      "Confidence : \n",
      "0: 40.0% | 1: 60.0%\n",
      "--------------------------\n",
      "Failure\n",
      "Input: [1443, 3715]\n",
      "True Answer: 0\n",
      "Prediction: 1\n",
      "\n",
      "Confidence : \n",
      "0: 40.0% | 1: 60.0%\n",
      "--------------------------\n",
      "Failure\n",
      "Input: [868, 4510]\n",
      "True Answer: 0\n",
      "Prediction: 1\n",
      "\n",
      "Confidence : \n",
      "0: 20.0% | 1: 80.0%\n",
      "--------------------------\n",
      "Failure\n",
      "Input: [1494, 3404]\n",
      "True Answer: 0\n",
      "Prediction: 1\n",
      "\n",
      "Confidence : \n",
      "0: 40.0% | 1: 60.0%\n",
      "--------------------------\n"
     ]
    }
   ],
   "source": [
    "count = 0\n",
    "for i in range(len(x_test)):\n",
    "    if y_test[i] == KNNclassifier.predict(scaler.transform([x_test[i]])):\n",
    "        count += 1\n",
    "    else:\n",
    "        print('Failure')\n",
    "        print('Input: {0}'.format(x_test[i]))\n",
    "        print('True Answer: {0}'.format(y_test[i]))\n",
    "        print('Prediction: {0}'.format(KNNclassifier.predict(scaler.transform([x_test[i]]))[0]))\n",
    "        print('''\n",
    "Confidence : \n",
    "0: {0}% | 1: {1}%'''.format(KNNclassifier.predict_proba(scaler.transform([x_test[i]]))[0][0]*100, \n",
    "                           KNNclassifier.predict_proba(scaler.transform([x_test[i]]))[0][1]*100))\n",
    "        print('--------------------------')"
   ]
  },
  {
   "cell_type": "code",
   "execution_count": 12,
   "metadata": {},
   "outputs": [
    {
     "name": "stdout",
     "output_type": "stream",
     "text": [
      "Number of Successes: 4993\n",
      "Total number of tests: 5000\n",
      "Number of Failures: 7\n",
      "Accuracy:  0.9986\n"
     ]
    }
   ],
   "source": [
    "print('Number of Successes: {0}'.format(count))\n",
    "print('Total number of tests: {0}'.format(len(x_test)))\n",
    "print('Number of Failures: {0}'.format(len(x_test) - count))\n",
    "print('Accuracy: ', KNNclassifier.score(scaler.transform(x_test), y_test))"
   ]
  },
  {
   "cell_type": "code",
   "execution_count": 13,
   "metadata": {},
   "outputs": [
    {
     "name": "stdout",
     "output_type": "stream",
     "text": [
      "Success\n"
     ]
    }
   ],
   "source": [
    "arr = [500,2000]   # <--- manual input\n",
    "\n",
    "temp = 0\n",
    "if arr[1] <= y(arr[0]):\n",
    "    temp = 0\n",
    "elif arr[1] > y(arr[0]):\n",
    "    temp = 1\n",
    "    \n",
    "arr = scaler.transform([arr])  \n",
    "if KNNclassifier.predict(arr)[0] == temp:\n",
    "    print('Success')\n",
    "else:\n",
    "    print('Failure')\n",
    "    print('Answer: ', temp)\n",
    "    print('Prediction: ', KNNclassifier.predict(arr)[0])"
   ]
  }
 ],
 "metadata": {
  "kernelspec": {
   "display_name": "Python 3",
   "language": "python",
   "name": "python3"
  },
  "language_info": {
   "codemirror_mode": {
    "name": "ipython",
    "version": 3
   },
   "file_extension": ".py",
   "mimetype": "text/x-python",
   "name": "python",
   "nbconvert_exporter": "python",
   "pygments_lexer": "ipython3",
   "version": "3.7.3"
  }
 },
 "nbformat": 4,
 "nbformat_minor": 2
}
