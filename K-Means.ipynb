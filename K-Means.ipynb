{
 "cells": [
  {
   "cell_type": "code",
   "execution_count": 103,
   "metadata": {},
   "outputs": [],
   "source": [
    "import numpy as np\n",
    "import sklearn\n",
    "import matplotlib.pyplot as plt"
   ]
  },
  {
   "cell_type": "code",
   "execution_count": 104,
   "metadata": {},
   "outputs": [],
   "source": [
    "n = 3\n",
    "x_train = []\n",
    "x_test = []\n",
    "\n",
    "for i in range(500):\n",
    "    temp = np.random.randint(0,3)\n",
    "    if temp == 0 :\n",
    "        x_train.append([np.random.randint(0, 451), np.random.randint(6500,10000)])\n",
    "    elif temp == 1:\n",
    "        x_train.append([np.random.randint(750, 1001), np.random.randint(0, 5000)])\n",
    "    else:\n",
    "        x_train.append([np.random.randint(0, 250), np.random.randint(0, 3000)])\n",
    "for i in range(50):\n",
    "    temp = np.random.randint(0,2)\n",
    "    if temp == 0 :\n",
    "        x_test.append([np.random.randint(0, 451), np.random.randint(6500,10000)])\n",
    "    elif temp == 1:\n",
    "        x_test.append([np.random.randint(750, 1001), np.random.randint(0, 5000)])\n",
    "    else:\n",
    "        x_test.append([np.random.randint(0, 250), np.random.randint(0, 3000)])"
   ]
  },
  {
   "cell_type": "code",
   "execution_count": 105,
   "metadata": {},
   "outputs": [
    {
     "data": {
      "text/plain": [
       "KMeans(algorithm='auto', copy_x=True, init='random', max_iter=300, n_clusters=3,\n",
       "       n_init=10, n_jobs=None, precompute_distances='auto', random_state=0,\n",
       "       tol=0.0001, verbose=0)"
      ]
     },
     "execution_count": 105,
     "metadata": {},
     "output_type": "execute_result"
    }
   ],
   "source": [
    "from sklearn.cluster import KMeans\n",
    "km = KMeans(n_clusters = n, init = 'random',\n",
    "           n_init = 10, max_iter = 300,\n",
    "           tol = 1e-04, random_state = 0)\n",
    "km.fit(x_train)"
   ]
  },
  {
   "cell_type": "code",
   "execution_count": 106,
   "metadata": {},
   "outputs": [
    {
     "name": "stdout",
     "output_type": "stream",
     "text": [
      "Input:  [863, 1726]\n",
      "Prediction:  2\n",
      "-------------------------------------\n",
      "Input:  [370, 7214]\n",
      "Prediction:  1\n",
      "-------------------------------------\n",
      "Input:  [857, 3036]\n",
      "Prediction:  0\n",
      "-------------------------------------\n",
      "Input:  [49, 9585]\n",
      "Prediction:  1\n",
      "-------------------------------------\n",
      "Input:  [858, 1890]\n",
      "Prediction:  2\n",
      "-------------------------------------\n",
      "Input:  [915, 1222]\n",
      "Prediction:  2\n",
      "-------------------------------------\n",
      "Input:  [305, 9882]\n",
      "Prediction:  1\n",
      "-------------------------------------\n",
      "Input:  [335, 9736]\n",
      "Prediction:  1\n",
      "-------------------------------------\n",
      "Input:  [422, 8323]\n",
      "Prediction:  1\n",
      "-------------------------------------\n",
      "Input:  [988, 1955]\n",
      "Prediction:  0\n",
      "-------------------------------------\n",
      "Input:  [44, 8720]\n",
      "Prediction:  1\n",
      "-------------------------------------\n",
      "Input:  [176, 6802]\n",
      "Prediction:  1\n",
      "-------------------------------------\n",
      "Input:  [943, 2167]\n",
      "Prediction:  0\n",
      "-------------------------------------\n",
      "Input:  [435, 7264]\n",
      "Prediction:  1\n",
      "-------------------------------------\n",
      "Input:  [865, 4156]\n",
      "Prediction:  0\n",
      "-------------------------------------\n",
      "Input:  [127, 9895]\n",
      "Prediction:  1\n",
      "-------------------------------------\n",
      "Input:  [171, 7249]\n",
      "Prediction:  1\n",
      "-------------------------------------\n",
      "Input:  [156, 7987]\n",
      "Prediction:  1\n",
      "-------------------------------------\n",
      "Input:  [847, 3574]\n",
      "Prediction:  0\n",
      "-------------------------------------\n",
      "Input:  [940, 3144]\n",
      "Prediction:  0\n",
      "-------------------------------------\n",
      "Input:  [870, 4223]\n",
      "Prediction:  0\n",
      "-------------------------------------\n",
      "Input:  [2, 7553]\n",
      "Prediction:  1\n",
      "-------------------------------------\n",
      "Input:  [773, 4245]\n",
      "Prediction:  0\n",
      "-------------------------------------\n",
      "Input:  [860, 1354]\n",
      "Prediction:  2\n",
      "-------------------------------------\n",
      "Input:  [832, 4513]\n",
      "Prediction:  0\n",
      "-------------------------------------\n",
      "Input:  [774, 1623]\n",
      "Prediction:  2\n",
      "-------------------------------------\n",
      "Input:  [782, 2180]\n",
      "Prediction:  0\n",
      "-------------------------------------\n",
      "Input:  [969, 1724]\n",
      "Prediction:  2\n",
      "-------------------------------------\n",
      "Input:  [932, 3123]\n",
      "Prediction:  0\n",
      "-------------------------------------\n",
      "Input:  [343, 9724]\n",
      "Prediction:  1\n",
      "-------------------------------------\n",
      "Input:  [768, 1410]\n",
      "Prediction:  2\n",
      "-------------------------------------\n",
      "Input:  [983, 331]\n",
      "Prediction:  2\n",
      "-------------------------------------\n",
      "Input:  [845, 585]\n",
      "Prediction:  2\n",
      "-------------------------------------\n",
      "Input:  [824, 257]\n",
      "Prediction:  2\n",
      "-------------------------------------\n",
      "Input:  [158, 6529]\n",
      "Prediction:  1\n",
      "-------------------------------------\n",
      "Input:  [115, 8279]\n",
      "Prediction:  1\n",
      "-------------------------------------\n",
      "Input:  [776, 3083]\n",
      "Prediction:  0\n",
      "-------------------------------------\n",
      "Input:  [433, 9981]\n",
      "Prediction:  1\n",
      "-------------------------------------\n",
      "Input:  [385, 9416]\n",
      "Prediction:  1\n",
      "-------------------------------------\n",
      "Input:  [961, 4836]\n",
      "Prediction:  0\n",
      "-------------------------------------\n",
      "Input:  [971, 214]\n",
      "Prediction:  2\n",
      "-------------------------------------\n",
      "Input:  [416, 8353]\n",
      "Prediction:  1\n",
      "-------------------------------------\n",
      "Input:  [86, 8835]\n",
      "Prediction:  1\n",
      "-------------------------------------\n",
      "Input:  [810, 1286]\n",
      "Prediction:  2\n",
      "-------------------------------------\n",
      "Input:  [850, 302]\n",
      "Prediction:  2\n",
      "-------------------------------------\n",
      "Input:  [272, 8732]\n",
      "Prediction:  1\n",
      "-------------------------------------\n",
      "Input:  [320, 8477]\n",
      "Prediction:  1\n",
      "-------------------------------------\n",
      "Input:  [765, 977]\n",
      "Prediction:  2\n",
      "-------------------------------------\n",
      "Input:  [962, 15]\n",
      "Prediction:  2\n",
      "-------------------------------------\n",
      "Input:  [839, 3741]\n",
      "Prediction:  0\n",
      "-------------------------------------\n"
     ]
    }
   ],
   "source": [
    "for i in range(len(x_test)):\n",
    "    print('Input: ', x_test[i])\n",
    "    print('Prediction: ', km.predict([x_test[i]])[0])\n",
    "    print('-------------------------------------')"
   ]
  },
  {
   "cell_type": "code",
   "execution_count": 107,
   "metadata": {},
   "outputs": [
    {
     "data": {
      "image/png": "[encoded data removed]",
      "text/plain": [
       "<Figure size 432x288 with 1 Axes>"
      ]
     },
     "metadata": {
      "needs_background": "light"
     },
     "output_type": "display_data"
    }
   ],
   "source": [
    "x = []\n",
    "y = []\n",
    "for it in x_train:\n",
    "    x.append(it[0])\n",
    "    y.append(it[1])\n",
    "plt.scatter(x,y)\n",
    "plt.xlabel('X')\n",
    "plt.ylabel('Y')\n",
    "plt.tight_layout()\n",
    "plt.show()"
   ]
  },
  {
   "cell_type": "code",
   "execution_count": 109,
   "metadata": {},
   "outputs": [
    {
     "data": {
      "image/png": "[encoded data removed]",
      "text/plain": [
       "<Figure size 432x288 with 1 Axes>"
      ]
     },
     "metadata": {
      "needs_background": "light"
     },
     "output_type": "display_data"
    }
   ],
   "source": [
    "distortions = []\n",
    "for i in range(1,10):\n",
    "    from sklearn.cluster import KMeans\n",
    "    km = KMeans(n_clusters = i, init = 'random',\n",
    "               n_init = 10, max_iter = 300,\n",
    "               tol = 1e-04, random_state = 0)\n",
    "    km.fit(x_train)\n",
    "    distortions.append(km.inertia_)\n",
    "plt.plot(range(1,10), distortions, marker ='o')\n",
    "plt.xlabel('Number of Clusters')\n",
    "plt.ylabel('Distortion')\n",
    "plt.tight_layout()\n",
    "plt.show()"
   ]
  },
  {
   "cell_type": "code",
   "execution_count": null,
   "metadata": {},
   "outputs": [],
   "source": []
  }
 ],
 "metadata": {
  "kernelspec": {
   "display_name": "Python 3",
   "language": "python",
   "name": "python3"
  },
  "language_info": {
   "codemirror_mode": {
    "name": "ipython",
    "version": 3
   },
   "file_extension": ".py",
   "mimetype": "text/x-python",
   "name": "python",
   "nbconvert_exporter": "python",
   "pygments_lexer": "ipython3",
   "version": "3.7.3"
  }
 },
 "nbformat": 4,
 "nbformat_minor": 2
}
