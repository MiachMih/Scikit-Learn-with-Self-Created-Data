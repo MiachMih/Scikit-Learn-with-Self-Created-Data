{
 "cells": [
  {
   "cell_type": "code",
   "execution_count": 3,
   "metadata": {},
   "outputs": [],
   "source": [
    "import sklearn\n",
    "import numpy as np"
   ]
  },
  {
   "cell_type": "code",
   "execution_count": 73,
   "metadata": {},
   "outputs": [],
   "source": [
    "# creating own data for the model y = ax + b\n",
    "x_train = []\n",
    "y_train = []\n",
    "x_test = []\n",
    "y_test = []\n",
    "weight = round(np.random.uniform(1, 1000), 3)\n",
    "bias = round(np.random.uniform(1, 10000), 3)\n",
    "def y(a,x,b):\n",
    "    return a*x + b\n",
    "\n",
    "for i in range(100):\n",
    "    x_train.append([round(np.random.uniform(1, 1000), 3)])\n",
    "    y_train.append([round(y(weight, x_train[i][0], bias), 3)])\n",
    "    \n",
    "for i in range(5):\n",
    "    x_test.append([round(np.random.uniform(1, 1000), 3)])\n",
    "    y_test.append([round(y(weight, x_test[i][0], bias), 3)])"
   ]
  },
  {
   "cell_type": "code",
   "execution_count": 74,
   "metadata": {},
   "outputs": [
    {
     "name": "stdout",
     "output_type": "stream",
     "text": [
      "Actual Model: y = 398.171•X + 4829.804\n",
      "Predicted Model y = 398.171•X + 4829.804\n"
     ]
    }
   ],
   "source": [
    "from sklearn.linear_model import LinearRegression\n",
    "linReg = LinearRegression(copy_X=True, fit_intercept=True, n_jobs=None, normalize=False)\n",
    "linReg.fit(x_train, y_train)\n",
    "print(\"Actual Model: y = {0}•X + {1}\".format(weight, bias))\n",
    "print(\"Predicted Model y = {0}•X + {1}\".format(np.around(linReg.coef_[0][0], decimals=3), np.around(linReg.intercept_[0], decimals=3)))"
   ]
  },
  {
   "cell_type": "code",
   "execution_count": 75,
   "metadata": {},
   "outputs": [
    {
     "name": "stdout",
     "output_type": "stream",
     "text": [
      "Success\n",
      "Input:  898.873\n",
      "True Answer:  362734.965\n",
      "Prediction:  362734.965\n",
      "---------------------------------------------------------\n",
      "Success\n",
      "Input:  92.881\n",
      "True Answer:  41812.325\n",
      "Prediction:  41812.325\n",
      "---------------------------------------------------------\n",
      "Success\n",
      "Input:  119.591\n",
      "True Answer:  52447.472\n",
      "Prediction:  52447.472\n",
      "---------------------------------------------------------\n",
      "Success\n",
      "Input:  687.722\n",
      "True Answer:  278660.76\n",
      "Prediction:  278660.76\n",
      "---------------------------------------------------------\n",
      "Success\n",
      "Input:  629.931\n",
      "True Answer:  255650.06\n",
      "Prediction:  255650.06\n",
      "---------------------------------------------------------\n"
     ]
    }
   ],
   "source": [
    "for i in range(len(x_test)):\n",
    "    if y_test[i] == np.around(linReg.predict([x_test[i]]), decimals=3):\n",
    "        print('Success')\n",
    "        print('Input: ', x_test[i][0])\n",
    "        print('True Answer: ', y_test[i][0])\n",
    "        print('Prediction: ', np.around(linReg.predict([x_test[i]]), decimals=3)[0][0])\n",
    "    else:\n",
    "        print('Failure')\n",
    "        print('Input: ', x_test[i][0])\n",
    "        print('True Answer: ', y_test[i][0])\n",
    "        print('Prediction: ', np.around(linReg.predict([x_test[i]]), decimals=3)[0][0])\n",
    "    print('---------------------------------------------------------')"
   ]
  }
 ],
 "metadata": {
  "kernelspec": {
   "display_name": "Python 3",
   "language": "python",
   "name": "python3"
  },
  "language_info": {
   "codemirror_mode": {
    "name": "ipython",
    "version": 3
   },
   "file_extension": ".py",
   "mimetype": "text/x-python",
   "name": "python",
   "nbconvert_exporter": "python",
   "pygments_lexer": "ipython3",
   "version": "3.7.3"
  }
 },
 "nbformat": 4,
 "nbformat_minor": 2
}
